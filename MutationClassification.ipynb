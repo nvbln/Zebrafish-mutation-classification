{
 "cells": [
  {
   "cell_type": "markdown",
   "metadata": {},
   "source": [
    "This notebook is the place from where the network can be run and tested. Everything relating to the setup can be done here, while \"specialised\" code should be delegated to its own python file. Ideally the process that is run through here will then later be adapted to a 'main' execution file in Python that can be run from the command line."
   ]
  },
  {
   "cell_type": "code",
   "execution_count": 3,
   "metadata": {},
   "outputs": [],
   "source": [
    "# Import the (probably) necessary imports.\n",
    "import numpy as np\n",
    "import pandas as pd\n",
    "import matplotlib.pyplot as plt\n",
    "\n",
    "import torch.optim as optim\n",
    "from torch.utils.data import DataLoader\n",
    "\n",
    "from torchvision import transforms, utils\n",
    "\n",
    "from skimage import io, transform\n",
    "\n",
    "import os\n",
    "\n",
    "# Probable project code structure\n",
    "from project_code.utils import preprocessing\n",
    "from project_code.data.zebrafish_data_module import *\n",
    "from project_code.networks.rnn import *"
   ]
  },
  {
   "cell_type": "code",
   "execution_count": 5,
   "metadata": {},
   "outputs": [
    {
     "data": {
      "text/html": [
       "\n",
       "      <iframe id=\"tensorboard-frame-8a0e2bd949ecddcf\" width=\"100%\" height=\"800\" frameborder=\"0\">\n",
       "      </iframe>\n",
       "      <script>\n",
       "        (function() {\n",
       "          const frame = document.getElementById(\"tensorboard-frame-8a0e2bd949ecddcf\");\n",
       "          const url = new URL(\"/\", window.location);\n",
       "          const port = 6006;\n",
       "          if (port) {\n",
       "            url.port = port;\n",
       "          }\n",
       "          frame.src = url;\n",
       "        })();\n",
       "      </script>\n",
       "    "
      ],
      "text/plain": [
       "<IPython.core.display.HTML object>"
      ]
     },
     "metadata": {},
     "output_type": "display_data"
    }
   ],
   "source": [
    "# Setup tensorboard for easy debugging.\n",
    "import tensorboard\n",
    "\n",
    "# This might be a little different for Pytorch lightning.\n",
    "# For one, the logs are stored in lightning_logs.\n",
    "# For two, I don't know if we should still remove them in between.\n",
    "\n",
    "%load_ext tensorboard\n",
    "%tensorboard --logdir lightning_logs\n",
    "\n",
    "# If you run this notebook locally, you can also access Tensorbaord at 127.0.0.1:6006 now.\n",
    "\n",
    "# Clean up old logs.\n",
    "if os.path.isdir('./lightning_logs/'):\n",
    "  import shutil\n",
    "  shutil.rmtree('lightning_logs/')\n",
    "\n",
    "from torch.utils.tensorboard import SummaryWriter\n",
    "\n",
    "# default 'log_dir' is \"lightning_logs\"\n",
    "writer = SummaryWriter('lightning_logs')"
   ]
  },
  {
   "cell_type": "code",
   "execution_count": null,
   "metadata": {},
   "outputs": [],
   "source": []
  },
  {
   "cell_type": "code",
   "execution_count": 4,
   "metadata": {},
   "outputs": [],
   "source": [
    "# Run through the whole process using Pytorch Lightning.\n",
    "\n",
    "# Initialise the model\n",
    "model = MutationNet()\n",
    "\n",
    "# The model needs to use double (instead of float)\n",
    "model = model.double()\n",
    "\n",
    "# Initialise the data.\n",
    "data_module = ZebrafishDataModule(batch_size=1)\n",
    "\n",
    "# Train the model.\n",
    "trainer = pl.Trainer()\n",
    "trainer.fit(model, data_module)\n",
    "\n",
    "# Test the model\n",
    "#trainer.test(datamodule=data_module)"
   ]
  },
  {
   "cell_type": "code",
   "execution_count": null,
   "metadata": {},
   "outputs": [],
   "source": []
  }
 ],
 "metadata": {
  "kernelspec": {
   "display_name": "Python 3",
   "language": "python",
   "name": "python3"
  },
  "language_info": {
   "codemirror_mode": {
    "name": "ipython",
    "version": 3
   },
   "file_extension": ".py",
   "mimetype": "text/x-python",
   "name": "python",
   "nbconvert_exporter": "python",
   "pygments_lexer": "ipython3",
   "version": "3.7.3"
  }
 },
 "nbformat": 4,
 "nbformat_minor": 2
}
